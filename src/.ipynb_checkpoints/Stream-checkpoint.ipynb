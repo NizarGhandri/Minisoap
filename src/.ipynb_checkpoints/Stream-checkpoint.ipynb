{
 "cells": [
  {
   "cell_type": "markdown",
   "metadata": {},
   "source": [
    "# Stream class\n",
    "\n",
    "This class is a wrapper of the wave library that will allow us to make better use of it and adapt it to our project architecture.\n",
    "\n",
    "For now it is very elementary but it will be upgraded slowly according to our needs and how the project evolves. \n",
    "\n",
    "TODO: \n",
    "\n",
    "-> finish write method and other utilitary methods. \n",
    "\n",
    "-> read and write are blocking methods so one can use an asynchronous manner of coding and add a callback for efficiency. \n",
    "\n",
    "-> define a better data structre for the return type of read\n",
    "\n",
    "-> add compression: we can add a compression feature to the stream one we output the data. (encoding and decoding of course) \n",
    "\n",
    "-> fix constants"
   ]
  },
  {
   "cell_type": "markdown",
   "metadata": {},
   "source": [
    "Include necessary imports here."
   ]
  },
  {
   "cell_type": "code",
   "execution_count": 3,
   "metadata": {
    "ExecuteTime": {
     "end_time": "2019-10-04T00:33:38.114133Z",
     "start_time": "2019-10-04T00:33:38.103014Z"
    }
   },
   "outputs": [],
   "source": [
    "import wave\n",
    "import Preconditions as p\n",
    " "
   ]
  },
  {
   "cell_type": "markdown",
   "metadata": {},
   "source": [
    "\n",
    "Here we define stream class constructor and add the open and close methods. \n",
    "we specify if a stream is infinite or not, if it should be started/opened directly or not and its type (input or output). There additional parameters which were set to satisfy standard CD quality, these parameters should only be modified if we are outputing a stream."
   ]
  },
  {
   "cell_type": "code",
   "execution_count": 1,
   "metadata": {
    "ExecuteTime": {
     "end_time": "2019-10-03T23:59:06.083884Z",
     "start_time": "2019-10-03T23:59:06.027705Z"
    }
   },
   "outputs": [],
   "source": [
    "class Stream: \n",
    "    \n",
    "    def __init__ (self, source, infinite = False, launch = True, input_signal = False, \n",
    "                  output_signal = False, nchannels=2, sampwidth=2, framerate=44100, nframes=1024):\n",
    "        self.source = source\n",
    "        self.infinite = infinite\n",
    "        self.launched = launch\n",
    "        self.input_signal = self.input_signal\n",
    "        self.output_signal = output_signal\n",
    "        if(output_signal): \n",
    "            self.wave_parameters = (nchannels, sampwidth, framerate, nframes, 'NONE', 'not compressed')\n",
    "        p.check(not(input_signal and output_signal),\n",
    "                \"the stream must be either an output stream or an input stream\")\n",
    "        if (launch):\n",
    "            self.open()\n",
    "            \n",
    "            \n",
    "    def open(self):\n",
    "        p.check(self.launched, \"cannot open already launched stream\")\n",
    "        self.launched = True\n",
    "        mode = ''\n",
    "        try:\n",
    "            if (self.input_signal): \n",
    "                self.wave_signal = wave.open(self.source, 'rb')\n",
    "                self.wave_parameters = self.wave_signal.getparams()\n",
    "            elif (self.output_signal): \n",
    "                self.wave_signal = wave.open(self.source, 'wb')\n",
    "                \n",
    "            \n",
    "        except: \n",
    "            print(\"IOError occured while opening file %s in %s mode\", self.source, mode, file = sys.stderr)\n",
    "            \n",
    "            \n",
    "    def close(self): \n",
    "        p.check(not(launched), \"cannot close unopened stream\")\n",
    "        self.wave_signal.close()\n",
    "        "
   ]
  },
  {
   "cell_type": "markdown",
   "metadata": {},
   "source": [
    "Adding the read method that returns the Stream data in the form of a Byte object.\n",
    "-parameters: the number of read frames. \n",
    "-returns: the data in binary form in a Byte object."
   ]
  },
  {
   "cell_type": "code",
   "execution_count": 10,
   "metadata": {
    "ExecuteTime": {
     "end_time": "2019-10-04T01:36:33.835230Z",
     "start_time": "2019-10-04T01:36:33.815552Z"
    }
   },
   "outputs": [],
   "source": [
    "    #I need to define a constant for that bad hardcoding \n",
    "    \n",
    "    def read_n_frames (self, n=None):\n",
    "        p.check(not(self.launched or self.infinite), \"cannot read unopened stream\")\n",
    "        try: \n",
    "            frame_n = 0\n",
    "            if(n == None): frame_n = self.wave_parameters[3] \n",
    "            else: frame_n = n\n",
    "            buffer = self.wave_signal.readframes(n)\n",
    "            return buffer\n",
    "        except:\n",
    "            print(\"Error occured while reading hthe frames\", file=sys.stderr)\n",
    "            "
   ]
  }
 ],
 "metadata": {
  "kernelspec": {
   "display_name": "Python 3",
   "language": "python",
   "name": "python3"
  },
  "language_info": {
   "codemirror_mode": {
    "name": "ipython",
    "version": 3
   },
   "file_extension": ".py",
   "mimetype": "text/x-python",
   "name": "python",
   "nbconvert_exporter": "python",
   "pygments_lexer": "ipython3",
   "version": "3.7.1"
  }
 },
 "nbformat": 4,
 "nbformat_minor": 2
}
