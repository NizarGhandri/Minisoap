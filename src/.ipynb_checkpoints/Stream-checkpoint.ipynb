{
 "cells": [
  {
   "cell_type": "markdown",
   "metadata": {},
   "source": [
    "# Stream class\n",
    "\n",
    "This class is a wrapper of the wave library that will allow us to make better use of it and adapt it to our project architecture.\n",
    "\n",
    "For now it is very elementary but it will be upgraded slowly according to our needs and how the project evolves. "
   ]
  },
  {
   "cell_type": "code",
   "execution_count": 3,
   "metadata": {
    "ExecuteTime": {
     "end_time": "2019-10-03T23:40:55.625271Z",
     "start_time": "2019-10-03T23:40:55.265812Z"
    }
   },
   "outputs": [
    {
     "ename": "ModuleNotFoundError",
     "evalue": "No module named 'Preconditions'",
     "output_type": "error",
     "traceback": [
      "\u001b[0;31m---------------------------------------------------------------------------\u001b[0m",
      "\u001b[0;31mModuleNotFoundError\u001b[0m                       Traceback (most recent call last)",
      "\u001b[0;32m<ipython-input-3-ffa7fff3f441>\u001b[0m in \u001b[0;36m<module>\u001b[0;34m\u001b[0m\n\u001b[1;32m      1\u001b[0m \u001b[0;32mimport\u001b[0m \u001b[0mwave\u001b[0m\u001b[0;34m\u001b[0m\u001b[0;34m\u001b[0m\u001b[0m\n\u001b[0;32m----> 2\u001b[0;31m \u001b[0;32mimport\u001b[0m \u001b[0mPreconditions\u001b[0m \u001b[0;32mas\u001b[0m \u001b[0mp\u001b[0m\u001b[0;34m\u001b[0m\u001b[0;34m\u001b[0m\u001b[0m\n\u001b[0m\u001b[1;32m      3\u001b[0m \u001b[0;34m\u001b[0m\u001b[0m\n\u001b[1;32m      4\u001b[0m \u001b[0;34m\u001b[0m\u001b[0m\n\u001b[1;32m      5\u001b[0m \u001b[0;32mclass\u001b[0m \u001b[0mStream\u001b[0m\u001b[0;34m:\u001b[0m\u001b[0;34m\u001b[0m\u001b[0;34m\u001b[0m\u001b[0m\n",
      "\u001b[0;31mModuleNotFoundError\u001b[0m: No module named 'Preconditions'"
     ]
    }
   ],
   "source": [
    "import wave\n",
    "import Preconditions as p\n",
    "\n",
    "\n",
    "class Stream: \n",
    "    \n",
    "    def __init__ (self, source, infinite = False, launch = True, input_signal = False, \n",
    "                  output_signal = False):\n",
    "        self.source = source\n",
    "        self.infinite = infinite\n",
    "        self.launched = launch\n",
    "        self.input_signal = self.input_signal\n",
    "        self.output_signal = output_signal\n",
    "        p.check(not(input_signal and output_signal))\n",
    "        if (launch): \n",
    "            self.open()\n",
    "            \n",
    "            \n",
    "    def open(self):\n",
    "        p.check(launched)\n",
    "        mode = ''\n",
    "        if (self.input_signal): mode = 'rb' \n",
    "        elif (self.output_signal): mode = 'wb'\n",
    "        try:\n",
    "            self.wave_signal = wave.open(self.source, mode)\n",
    "        except: \n",
    "            print(\"IOError occured while opening file %s in %s mode\", self.source, mode, file = sys.stderr)\n",
    "\n",
    "            \n",
    "            "
   ]
  },
  {
   "cell_type": "code",
   "execution_count": null,
   "metadata": {},
   "outputs": [],
   "source": []
  }
 ],
 "metadata": {
  "kernelspec": {
   "display_name": "Python 3",
   "language": "python",
   "name": "python3"
  },
  "language_info": {
   "codemirror_mode": {
    "name": "ipython",
    "version": 3
   },
   "file_extension": ".py",
   "mimetype": "text/x-python",
   "name": "python",
   "nbconvert_exporter": "python",
   "pygments_lexer": "ipython3",
   "version": "3.7.1"
  }
 },
 "nbformat": 4,
 "nbformat_minor": 2
}
