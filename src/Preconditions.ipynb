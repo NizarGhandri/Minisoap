{
 "cells": [
  {
   "cell_type": "markdown",
   "metadata": {},
   "source": [
    "# Preconditions module\n",
    "\n",
    "This module should contain all of the checking function that raise certain exceptions or errors. It will help modularise the code and make it cleaner all sort of checks can be added here."
   ]
  },
  {
   "cell_type": "markdown",
   "metadata": {},
   "source": [
    "Include necessary imports here"
   ]
  },
  {
   "cell_type": "code",
   "execution_count": 8,
   "metadata": {
    "ExecuteTime": {
     "end_time": "2019-10-03T23:37:37.283697Z",
     "start_time": "2019-10-03T23:37:37.264894Z"
    }
   },
   "outputs": [],
   "source": [
    "import math as m"
   ]
  },
  {
   "cell_type": "markdown",
   "metadata": {},
   "source": [
    "The method check verifies if the value satisfies a certain predicate if not it raises a ValueError with details as specification of why value was wrong. "
   ]
  },
  {
   "cell_type": "code",
   "execution_count": 9,
   "metadata": {
    "ExecuteTime": {
     "end_time": "2019-10-03T23:37:38.206381Z",
     "start_time": "2019-10-03T23:37:38.192948Z"
    }
   },
   "outputs": [],
   "source": [
    "def check(value, predicate=lambda x: x, details='bad value for this function'):\n",
    "    if (not(predicate(value))): raise ValueError(details)"
   ]
  },
  {
   "cell_type": "markdown",
   "metadata": {},
   "source": [
    "\n",
    "\n",
    "This method is a special case of check as it checks if a value is in a certain range or not."
   ]
  },
  {
   "cell_type": "code",
   "execution_count": 10,
   "metadata": {
    "ExecuteTime": {
     "end_time": "2019-10-03T23:37:39.093459Z",
     "start_time": "2019-10-03T23:37:39.067688Z"
    }
   },
   "outputs": [],
   "source": [
    "def check_in_range(value, startInclusive=0, endExclusive= m.inf): \n",
    "    check(value, lambda x: x >= startInclusive and x < n)"
   ]
  }
 ],
 "metadata": {
  "kernelspec": {
   "display_name": "Python 3",
   "language": "python",
   "name": "python3"
  },
  "language_info": {
   "codemirror_mode": {
    "name": "ipython",
    "version": 3
   },
   "file_extension": ".py",
   "mimetype": "text/x-python",
   "name": "python",
   "nbconvert_exporter": "python",
   "pygments_lexer": "ipython3",
   "version": "3.7.1"
  }
 },
 "nbformat": 4,
 "nbformat_minor": 2
}
